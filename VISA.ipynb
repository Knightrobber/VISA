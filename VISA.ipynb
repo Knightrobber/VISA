{
 "cells": [
  {
   "cell_type": "code",
   "execution_count": 2,
   "metadata": {},
   "outputs": [
    {
     "name": "stdout",
     "output_type": "stream",
     "text": [
      "Defaulting to user installation because normal site-packages is not writeable\n",
      "Collecting selenium\n",
      "  Downloading selenium-4.25.0-py3-none-any.whl (9.7 MB)\n",
      "\u001b[K     |████████████████████████████████| 9.7 MB 4.8 MB/s eta 0:00:01\n",
      "\u001b[?25hRequirement already satisfied: urllib3[socks]<3,>=1.26 in /Users/meeradev/Library/Python/3.9/lib/python/site-packages (from selenium) (2.1.0)\n",
      "Requirement already satisfied: typing_extensions~=4.9 in /Users/meeradev/Library/Python/3.9/lib/python/site-packages (from selenium) (4.9.0)\n",
      "Collecting trio~=0.17\n",
      "  Downloading trio-0.27.0-py3-none-any.whl (481 kB)\n",
      "\u001b[K     |████████████████████████████████| 481 kB 91.4 MB/s eta 0:00:01\n",
      "\u001b[?25hCollecting trio-websocket~=0.9\n",
      "  Downloading trio_websocket-0.11.1-py3-none-any.whl (17 kB)\n",
      "Requirement already satisfied: certifi>=2021.10.8 in /Users/meeradev/Library/Python/3.9/lib/python/site-packages (from selenium) (2023.11.17)\n",
      "Collecting websocket-client~=1.8\n",
      "  Downloading websocket_client-1.8.0-py3-none-any.whl (58 kB)\n",
      "\u001b[K     |████████████████████████████████| 58 kB 34.7 MB/s eta 0:00:01\n",
      "\u001b[?25hRequirement already satisfied: sniffio>=1.3.0 in /Users/meeradev/Library/Python/3.9/lib/python/site-packages (from trio~=0.17->selenium) (1.3.0)\n",
      "Requirement already satisfied: attrs>=23.2.0 in /Users/meeradev/Library/Python/3.9/lib/python/site-packages (from trio~=0.17->selenium) (23.2.0)\n",
      "Collecting sortedcontainers\n",
      "  Downloading sortedcontainers-2.4.0-py2.py3-none-any.whl (29 kB)\n",
      "Requirement already satisfied: idna in /Users/meeradev/Library/Python/3.9/lib/python/site-packages (from trio~=0.17->selenium) (3.6)\n",
      "Requirement already satisfied: exceptiongroup in /Users/meeradev/Library/Python/3.9/lib/python/site-packages (from trio~=0.17->selenium) (1.2.0)\n",
      "Collecting outcome\n",
      "  Downloading outcome-1.3.0.post0-py2.py3-none-any.whl (10 kB)\n",
      "Collecting wsproto>=0.14\n",
      "  Downloading wsproto-1.2.0-py3-none-any.whl (24 kB)\n",
      "Collecting pysocks!=1.5.7,<2.0,>=1.5.6\n",
      "  Downloading PySocks-1.7.1-py3-none-any.whl (16 kB)\n",
      "Requirement already satisfied: h11<1,>=0.9.0 in /Users/meeradev/Library/Python/3.9/lib/python/site-packages (from wsproto>=0.14->trio-websocket~=0.9->selenium) (0.14.0)\n",
      "Installing collected packages: sortedcontainers, outcome, wsproto, trio, pysocks, websocket-client, trio-websocket, selenium\n",
      "Successfully installed outcome-1.3.0.post0 pysocks-1.7.1 selenium-4.25.0 sortedcontainers-2.4.0 trio-0.27.0 trio-websocket-0.11.1 websocket-client-1.8.0 wsproto-1.2.0\n",
      "\u001b[33mWARNING: You are using pip version 21.2.4; however, version 24.2 is available.\n",
      "You should consider upgrading via the '/Library/Developer/CommandLineTools/usr/bin/python3 -m pip install --upgrade pip' command.\u001b[0m\n",
      "Note: you may need to restart the kernel to use updated packages.\n"
     ]
    }
   ],
   "source": [
    "pip install selenium"
   ]
  },
  {
   "cell_type": "code",
   "execution_count": 19,
   "metadata": {},
   "outputs": [],
   "source": [
    "from selenium import webdriver\n",
    "from selenium.webdriver.common.by import By\n",
    "from selenium.webdriver.common.keys import Keys\n",
    "import time\n",
    "from selenium.webdriver.chrome.service import Service\n",
    "from selenium.webdriver.support.ui import WebDriverWait\n",
    "from selenium.webdriver.support import expected_conditions as EC\n",
    "from selenium.webdriver.support.ui import Select"
   ]
  },
  {
   "cell_type": "code",
   "execution_count": 13,
   "metadata": {},
   "outputs": [],
   "source": [
    "service = Service(executable_path='/Users/meeradev/Desktop/Sisir_Dev/VISA/Software/chromedriver-mac-arm64/chromedriver')\n",
    "driver = webdriver.Chrome(service=service)\n",
    "\n",
    "driver.get('https://www.govietnamvisa.com/step_1')"
   ]
  },
  {
   "cell_type": "code",
   "execution_count": 35,
   "metadata": {},
   "outputs": [],
   "source": [
    "service = Service(executable_path='/Users/meeradev/Desktop/Sisir_Dev/VISA/Software/chromedriver-mac-arm64/chromedriver')\n",
    "driver = webdriver.Chrome(service=service)\n",
    "\n",
    "driver.get('https://www.govietnamvisa.com/step_1')\n",
    "dropdown = WebDriverWait(driver, 10).until(\n",
    "    EC.visibility_of_element_located((By.ID, 'NumberId'))\n",
    ")\n",
    "no_of_visa = Select(driver.find_element(By.ID, 'NumberId'))\n",
    "time_of_visa = Select(driver.find_element(By.ID, 'TimeId'))\n",
    "type_of_visa = Select(driver.find_element(By.ID, 'TypeId'))\n",
    "radio_button = driver.find_element(By.ID, 'process-11')\n",
    "#next_step_button = driver.find_element(By.XPATH, \"//button[@onclick='submitData()']\")\n",
    "next_step_button = WebDriverWait(driver, 10).until(\n",
    "    EC.visibility_of_element_located((By.XPATH, \"//button[@onclick='submitData()']\"))\n",
    ")\n",
    "# Select the option by value (e.g., value=\"5\" for \"5 Applications\")\n",
    "no_of_visa.select_by_value('1')\n",
    "time_of_visa.select_by_value('1')\n",
    "type_of_visa.select_by_value('4')\n",
    "radio_button.click()\n",
    "\n",
    "#time.sleep(10)\n",
    "\n",
    "next_step_button.click()\n",
    "\n",
    "\n",
    "dropdown = WebDriverWait(driver, 30).until(\n",
    "    EC.visibility_of_element_located((By.ID, 'ArrivalPortID'))\n",
    ")\n",
    "\n",
    "next_step_button = WebDriverWait(driver, 30).until(\n",
    "    EC.visibility_of_element_located((By.XPATH, \"//button[@onclick='submitData()']\"))\n",
    ")\n",
    "\n",
    "\n",
    "arrival_border = Select(driver.find_element(By.ID, 'ArrivalPortID'))\n",
    "name_input = driver.find_element(By.ID, 'fullName1')\n",
    "date_of_birth = driver.find_element(By.ID, 'dateBirth1')\n",
    "date_of_birth.clear()  # Clear any existing value\n",
    "nationality = Select(driver.find_element(By.ID, 'country1'))\n",
    "passportno = driver.find_element(By.ID, 'passPort1')\n",
    "passport_expiration_date = driver.find_element(By.ID, 'datePassport1')\n",
    "potrait = driver.find_element(By.ID, 'Anh')\n",
    "first_file_input = driver.find_element(By.XPATH, \"(//input[@type='file'])\")\n",
    "\n",
    "\n",
    "# Upload a file to the second input element using XPath\n",
    "#second_file_input = driver.find_element(By.XPATH, \"(//input[@type='file'])[2]\")\n",
    "#second_file_input.send_keys('/path/to/your/file2.jpg')\n",
    "\n",
    "arrival_border.select_by_value('2')\n",
    "name_input.send_keys('Kiaaan')\n",
    "date_of_birth.send_keys('10/20/2024')  \n",
    "nationality.select_by_value('13')\n",
    "passportno.send_keys('1234567891')\n",
    "passport_expiration_date.send_keys('10/20/2024')  \n",
    "first_file_input.send_keys('/Users/meeradev/Desktop/jj.png')\n",
    "\n",
    "\n",
    "\n",
    "\n",
    "\n",
    "next_step_button.click()\n",
    "\n",
    "#driver.quit()\n",
    "\n",
    "\n",
    "\n",
    "\n"
   ]
  },
  {
   "cell_type": "code",
   "execution_count": null,
   "metadata": {},
   "outputs": [],
   "source": []
  }
 ],
 "metadata": {
  "kernelspec": {
   "display_name": "Python 3",
   "language": "python",
   "name": "python3"
  },
  "language_info": {
   "codemirror_mode": {
    "name": "ipython",
    "version": 3
   },
   "file_extension": ".py",
   "mimetype": "text/x-python",
   "name": "python",
   "nbconvert_exporter": "python",
   "pygments_lexer": "ipython3",
   "version": "3.9.6"
  }
 },
 "nbformat": 4,
 "nbformat_minor": 2
}
